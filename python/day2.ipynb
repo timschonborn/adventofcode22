{
 "cells": [
  {
   "cell_type": "code",
   "execution_count": 17,
   "metadata": {},
   "outputs": [],
   "source": [
    "# # A -> Rock\n",
    "# # B -> Paper\n",
    "# # C -> Scissors\n",
    "# # X -> Rock 1\n",
    "# # Y -> Paper 2\n",
    "# # Z -> Scissors 3\n",
    "# # win -> 6\n",
    "# points = 0\n",
    "\n",
    "\n",
    "# with open('input2.txt') as f:\n",
    "#     data = f.read().splitlines()\n",
    "#     for i in range (len(data)):\n",
    "#         [p, q] = data[i].split(' ')\n",
    "#         if (p == 'A' and q == 'X'): # rock vs rock 3 + 1\n",
    "#             points += 4\n",
    "#         elif (p == 'B' and q == 'X'): # paper vs rock 0 + 1\n",
    "#             points += 1\n",
    "#         elif (p == 'C' and q == 'X'): # scissors vs rock 6 + 1\n",
    "#             points += 7\n",
    "#         elif (p == 'A' and q == 'Y'): # rock vs paper 6 + 2\n",
    "#             points += 8\n",
    "#         elif (p == 'B' and q == 'Y'): # paper vs paper 3 + 2\n",
    "#             points += 5\n",
    "#         elif (p == 'C' and q == 'Y'): # scissors vs paper 0 + 2\n",
    "#             points += 2\n",
    "#         elif (p == 'A' and q == 'Z'): # rock vs scissors 0 + 3\n",
    "#             points += 3\n",
    "#         elif (p == 'B' and q == 'Z'): # paper vs scissors 6 + 3\n",
    "#             points += 9\n",
    "#         elif (p == 'C' and q == 'Z'): # scissors vs scissors 3 + 3\n",
    "#             points += 6\n",
    "\n",
    "# print(points)"
   ]
  },
  {
   "cell_type": "code",
   "execution_count": 20,
   "metadata": {},
   "outputs": [
    {
     "name": "stdout",
     "output_type": "stream",
     "text": [
      "13886\n"
     ]
    }
   ],
   "source": [
    "points=0\n",
    "with open('input2.txt') as f:\n",
    "    data = f.read().splitlines()\n",
    "    for i in range (len(data)):\n",
    "        [p, q] = data[i].split(' ')\n",
    "        if (p == 'A' and q == 'X'): # lose with scissors 3\n",
    "            points += 3\n",
    "        elif (p == 'B' and q == 'X'): # lose with rock 1\n",
    "            points += 1\n",
    "        elif (p == 'C' and q == 'X'): # lose with paper 2\n",
    "            points += 2\n",
    "        elif (p == 'A' and q == 'Y'): # draw with rock 4\n",
    "            points += 4\n",
    "        elif (p == 'B' and q == 'Y'): # draw with paper 5\n",
    "            points += 5\n",
    "        elif (p == 'C' and q == 'Y'): # draw with scissors 6\n",
    "            points += 6\n",
    "        elif (p == 'A' and q == 'Z'): # win with paper 8\n",
    "            points += 8\n",
    "        elif (p == 'B' and q == 'Z'): # win with scissors 9\n",
    "            points += 9\n",
    "        elif (p == 'C' and q == 'Z'): # win with rock 7\n",
    "            points += 7\n",
    "print(points)"
   ]
  },
  {
   "cell_type": "markdown",
   "metadata": {},
   "source": []
  },
  {
   "cell_type": "code",
   "execution_count": null,
   "metadata": {},
   "outputs": [],
   "source": []
  }
 ],
 "metadata": {
  "kernelspec": {
   "display_name": "Python 3.11.0 64-bit",
   "language": "python",
   "name": "python3"
  },
  "language_info": {
   "codemirror_mode": {
    "name": "ipython",
    "version": 3
   },
   "file_extension": ".py",
   "mimetype": "text/x-python",
   "name": "python",
   "nbconvert_exporter": "python",
   "pygments_lexer": "ipython3",
   "version": "3.11.0"
  },
  "orig_nbformat": 4,
  "vscode": {
   "interpreter": {
    "hash": "1a1af0ee75eeea9e2e1ee996c87e7a2b11a0bebd85af04bb136d915cefc0abce"
   }
  }
 },
 "nbformat": 4,
 "nbformat_minor": 2
}
