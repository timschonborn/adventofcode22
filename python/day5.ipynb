{
 "cells": [
  {
   "cell_type": "code",
   "execution_count": 90,
   "metadata": {},
   "outputs": [],
   "source": [
    "class Move:\n",
    "    def __init__(self, from_col, to_col):\n",
    "        self.from_col = from_col - 1\n",
    "        self.to_col = to_col - 1\n",
    "    \n",
    "    def __str__(self):\n",
    "        return f\"Move from {self.from_col} to {self.to_col}\""
   ]
  },
  {
   "cell_type": "code",
   "execution_count": 91,
   "metadata": {},
   "outputs": [],
   "source": [
    "class Stacks:\n",
    "    def __init__(self, moves):\n",
    "        self.stacks = []\n",
    "        self.moves = moves\n",
    "    \n",
    "    def __str__(self):\n",
    "        return f\"Stacks: {self.stacks}\"\n",
    "\n",
    "    def add_stack(self, stack):\n",
    "        self.stacks.append(stack)\n",
    "    \n",
    "    def move(self, move):\n",
    "        char = self.stacks[move.from_col][0]\n",
    "        self.stacks[move.from_col] = self.stacks[move.from_col][1:]\n",
    "        self.stacks[move.to_col] = char + self.stacks[move.to_col]\n",
    "\n",
    "    def solve(self):\n",
    "        for move in self.moves:\n",
    "            self.move(move)\n",
    "        solution = \"\"\n",
    "        for stack in self.stacks:\n",
    "            solution += stack[0]\n",
    "        return solution\n",
    "        "
   ]
  },
  {
   "cell_type": "code",
   "execution_count": 92,
   "metadata": {},
   "outputs": [
    {
     "data": {
      "text/plain": [
       "'WCZTHTMPS'"
      ]
     },
     "execution_count": 92,
     "metadata": {},
     "output_type": "execute_result"
    }
   ],
   "source": [
    "# read 3 characters at a time, seperated by one space\n",
    "def read_stacks(line):\n",
    "    chars = list(line)\n",
    "    stack = ''\n",
    "    if chars[1] == '1':\n",
    "        return\n",
    "    for i in range(0, len(chars), 4):\n",
    "        if chars[i] == ' ':\n",
    "            stack += ' '\n",
    "        if chars[i] == '[':\n",
    "            stack += chars[i+1]\n",
    "    return stack\n",
    "\n",
    "def read_moves(line):\n",
    "    tokens = line.split()\n",
    "    moves = []\n",
    "    for i in range(int(tokens[1])):\n",
    "        moves.append(Move(int(tokens[3]), int(tokens[5])))\n",
    "    return moves\n",
    "    \n",
    "\n",
    "with open('input5.txt') as f:\n",
    "    data = f.read().splitlines()\n",
    "    reading_stack = True\n",
    "    reading_empty = True\n",
    "    stack= []\n",
    "    moves= []\n",
    "    for line in data:\n",
    "        if reading_stack and reading_empty and line[1] != '1':\n",
    "            stack.append(read_stacks(line))\n",
    "        elif reading_stack and reading_empty and line[1] == '1':\n",
    "            reading_empty = False\n",
    "            reading_stack = False\n",
    "        elif line == '':\n",
    "            continue\n",
    "        else:\n",
    "            moves.extend(read_moves(line))\n",
    "\n",
    "transpose = []\n",
    "for i in range(len(stack[0])):\n",
    "    t = ''.join([ls[i] for ls in stack])\n",
    "    transpose.append(t)\n",
    "\n",
    "stack = Stacks(moves)\n",
    "for x in transpose:\n",
    "    stack.add_stack(x.strip())\n",
    "\n",
    "stack.solve()\n",
    "          \n"
   ]
  },
  {
   "cell_type": "code",
   "execution_count": null,
   "metadata": {},
   "outputs": [],
   "source": []
  },
  {
   "cell_type": "code",
   "execution_count": null,
   "metadata": {},
   "outputs": [],
   "source": []
  }
 ],
 "metadata": {
  "kernelspec": {
   "display_name": "Python 3.10.8 ('.venv': venv)",
   "language": "python",
   "name": "python3"
  },
  "language_info": {
   "codemirror_mode": {
    "name": "ipython",
    "version": 3
   },
   "file_extension": ".py",
   "mimetype": "text/x-python",
   "name": "python",
   "nbconvert_exporter": "python",
   "pygments_lexer": "ipython3",
   "version": "3.10.8"
  },
  "orig_nbformat": 4,
  "vscode": {
   "interpreter": {
    "hash": "f0871d38d2e6f5f8c27669a4e9b235c77e21cfc7184e4d5e486817e84bf0fb96"
   }
  }
 },
 "nbformat": 4,
 "nbformat_minor": 2
}
