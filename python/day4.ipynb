{
 "cells": [
  {
   "cell_type": "code",
   "execution_count": 16,
   "metadata": {},
   "outputs": [
    {
     "name": "stdout",
     "output_type": "stream",
     "text": [
      "500\n"
     ]
    }
   ],
   "source": [
    "# check if a section overlaps at all with another section\n",
    "def check_section(start_a, end_a, start_b, end_b):\n",
    "    if start_a <= start_b <= end_a:\n",
    "        return 1\n",
    "    if start_a <= end_b <= end_a:\n",
    "        return 1\n",
    "    if start_b <= start_a <= end_b:\n",
    "        return 1\n",
    "    if start_b <= end_a <= end_b:\n",
    "        return 1\n",
    "    return 0\n",
    "\n",
    "# checks if a section is included in another section\n",
    "def check_section_included(start_a, end_a, start_b, end_b):\n",
    "    if start_a <= start_b and end_a >= end_b:\n",
    "        return 1\n",
    "    if start_b <= start_a and end_b >= end_a:\n",
    "        return 1\n",
    "    return 0\n",
    "\n",
    "\n",
    "        \n",
    "\n",
    "with open('input4.txt') as f:\n",
    "    lines = f.read().splitlines()\n",
    "    sections = []\n",
    "    for line in lines:\n",
    "        sections.extend(line.split(','))\n",
    "    nums = []\n",
    "    for section in sections:\n",
    "        nums.extend(section.split('-'))\n",
    "    for i in range(0, len(nums)):\n",
    "        nums[i] = int(nums[i])\n",
    "    count = 0\n",
    "    for i in range(0, len(nums), 4):\n",
    "        count += check_section_included(nums[i], nums[i+1], nums[i+2], nums[i+3])\n",
    "    print(count)\n",
    "\n"
   ]
  },
  {
   "cell_type": "code",
   "execution_count": null,
   "metadata": {},
   "outputs": [],
   "source": []
  },
  {
   "cell_type": "code",
   "execution_count": null,
   "metadata": {},
   "outputs": [],
   "source": []
  }
 ],
 "metadata": {
  "kernelspec": {
   "display_name": "Python 3.11.0 64-bit",
   "language": "python",
   "name": "python3"
  },
  "language_info": {
   "codemirror_mode": {
    "name": "ipython",
    "version": 3
   },
   "file_extension": ".py",
   "mimetype": "text/x-python",
   "name": "python",
   "nbconvert_exporter": "python",
   "pygments_lexer": "ipython3",
   "version": "3.11.0"
  },
  "orig_nbformat": 4,
  "vscode": {
   "interpreter": {
    "hash": "1a1af0ee75eeea9e2e1ee996c87e7a2b11a0bebd85af04bb136d915cefc0abce"
   }
  }
 },
 "nbformat": 4,
 "nbformat_minor": 2
}
