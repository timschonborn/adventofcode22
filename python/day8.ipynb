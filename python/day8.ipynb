{
 "cells": [
  {
   "cell_type": "code",
   "execution_count": 3,
   "metadata": {},
   "outputs": [],
   "source": [
    "# 30373\n",
    "# 25512\n",
    "# 65332\n",
    "# 33549\n",
    "# 35390"
   ]
  },
  {
   "cell_type": "code",
   "execution_count": 18,
   "metadata": {},
   "outputs": [
    {
     "name": "stdout",
     "output_type": "stream",
     "text": [
      "21\n"
     ]
    }
   ],
   "source": [
    "with open('input8.txt') as f:\n",
    "    grid = []\n",
    "    lines = f.read().splitlines()\n",
    "    for line in lines:\n",
    "        grid.append(list(line))\n",
    "\n",
    "    m = len(grid)\n",
    "    n = len(grid[0])\n",
    "\n",
    "    visable = 0\n",
    "    for i in range(0, len(grid)):\n",
    "        for j in range(0, len(grid[i])):\n",
    "            height = grid[i][j]\n",
    "            # print(heigt)\n",
    "            # now we need to check if the current tree \n",
    "            # is visible from either North, East, South, or West\n",
    "            if i == 0 or i == n - 1 or j == 0 or j == m - 1:\n",
    "                visable += 1\n",
    "                continue\n",
    "\n",
    "            north_col = []\n",
    "            east_row = []\n",
    "            south_col = []\n",
    "            west_row = []\n",
    "\n",
    "            for x in range(0, j):\n",
    "                west_row.append(grid[i][x])\n",
    "            if (max(west_row) < height):\n",
    "                visable +=1\n",
    "                continue\n",
    "\n",
    "            for y in range(j+1, n):\n",
    "                east_row.append(grid[i][y])\n",
    "            if (max(east_row) < height):\n",
    "                visable +=1\n",
    "                continue\n",
    "\n",
    "            for z in range(0, i):\n",
    "                north_col.append(grid[z][j])\n",
    "            if (max(north_col) < height):\n",
    "                visable +=1\n",
    "                continue\n",
    "            \n",
    "            for w in range(i+1, m):\n",
    "                south_col.append(grid[w][j])\n",
    "            if (max(south_col) < height):\n",
    "                visable +=1\n",
    "                continue\n",
    "\n",
    "    print(visable)\n",
    "\n",
    "            \n"
   ]
  },
  {
   "cell_type": "code",
   "execution_count": 58,
   "metadata": {},
   "outputs": [],
   "source": [
    "# I'm pretty sure this is a DP problem,\n",
    "# but I'm not sure how to solve it so\n",
    "# I'm going to brute force it :^)\n",
    "\n",
    "\n",
    "def go_north(grid, i, j, height):\n",
    "    if i == 0:\n",
    "        return 0\n",
    "    if grid[i-1][j] < height:\n",
    "        return 1 + go_north(grid, i-1, j, height) \n",
    "    if grid[i-1][j] >= height:\n",
    "        return 1\n",
    "\n",
    "def go_south(grid, i, j, height):\n",
    "    if i == len(grid) - 1:\n",
    "        return 0\n",
    "    if grid[i+1][j] < height:\n",
    "        return 1 + go_south(grid, i+1, j, height) \n",
    "    if grid[i+1][j] >= height:\n",
    "        return 1\n",
    "\n",
    "def go_east(grid, i, j, height):\n",
    "    if j == len(grid[i]) - 1:\n",
    "        return 0\n",
    "    if grid[i][j+1] < height:\n",
    "        return 1 + go_east(grid, i, j+1, height) \n",
    "    if grid[i][j+1] >= height:\n",
    "        return 1\n",
    "\n",
    "def go_west(grid, i, j, height):    \n",
    "    if j == 0:\n",
    "        return 0\n",
    "    if grid[i][j-1] < height:\n",
    "        return 1 + go_west(grid, i, j-1, height) \n",
    "    if grid[i][j-1] >= height:\n",
    "        return 1"
   ]
  },
  {
   "cell_type": "code",
   "execution_count": 61,
   "metadata": {},
   "outputs": [
    {
     "name": "stdout",
     "output_type": "stream",
     "text": [
      "332640\n"
     ]
    }
   ],
   "source": [
    "def part2():\n",
    "    with open(\"input8.txt\") as f:\n",
    "        grid = []\n",
    "        scores = []\n",
    "\n",
    "        lines = f.read().splitlines()\n",
    "        for line in lines:\n",
    "            grid.append(list(line))\n",
    "\n",
    "        m = len(grid)\n",
    "        n = len(grid[0])\n",
    "        \n",
    "        vertical_grid = []\n",
    "        horizontal_grid = []\n",
    "        for i in range(n):\n",
    "            vertical_grid.append([])\n",
    "            horizontal_grid.append([])\n",
    "            for j in range(m):\n",
    "                vertical_grid[i].append(0)\n",
    "                horizontal_grid[i].append(0)\n",
    "                grid[i][j] = int(grid[i][j])\n",
    "\n",
    "\n",
    "        for i in range(0, len(grid)):\n",
    "            for j in range(0, len(grid[i])):\n",
    "                height = grid[i][j]\n",
    "                \n",
    "                north = go_north(grid, i, j, height)\n",
    "                south = go_south(grid, i, j, height)\n",
    "                east = go_east(grid, i, j, height)\n",
    "                west = go_west(grid, i, j, height)\n",
    "                scores.append(north * south * east * west)\n",
    "        print(max(scores))\n",
    "part2()"
   ]
  },
  {
   "cell_type": "code",
   "execution_count": null,
   "metadata": {},
   "outputs": [],
   "source": []
  }
 ],
 "metadata": {
  "kernelspec": {
   "display_name": ".venv",
   "language": "python",
   "name": "python3"
  },
  "language_info": {
   "codemirror_mode": {
    "name": "ipython",
    "version": 3
   },
   "file_extension": ".py",
   "mimetype": "text/x-python",
   "name": "python",
   "nbconvert_exporter": "python",
   "pygments_lexer": "ipython3",
   "version": "3.10.8"
  },
  "orig_nbformat": 4,
  "vscode": {
   "interpreter": {
    "hash": "f0871d38d2e6f5f8c27669a4e9b235c77e21cfc7184e4d5e486817e84bf0fb96"
   }
  }
 },
 "nbformat": 4,
 "nbformat_minor": 2
}
