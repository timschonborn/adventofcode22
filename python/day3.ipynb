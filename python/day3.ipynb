{
 "cells": [
  {
   "cell_type": "code",
   "execution_count": 1,
   "metadata": {},
   "outputs": [],
   "source": [
    "points = {\n",
    "    'a': 1,\n",
    "    'b': 2,\n",
    "    'c': 3,\n",
    "    'd': 4,\n",
    "    'e': 5,\n",
    "    'f': 6,\n",
    "    'g': 7,\n",
    "    'h': 8,\n",
    "    'i': 9,\n",
    "    'j': 10,\n",
    "    'k': 11,\n",
    "    'l': 12,\n",
    "    'm': 13,\n",
    "    'n': 14,\n",
    "    'o': 15,\n",
    "    'p': 16,\n",
    "    'q': 17,\n",
    "    'r': 18,\n",
    "    's': 19,\n",
    "    't': 20,\n",
    "    'u': 21,\n",
    "    'v': 22,\n",
    "    'w': 23,\n",
    "    'x': 24,\n",
    "    'y': 25,\n",
    "    'z': 26,\n",
    "    'A': 27,\n",
    "    'B': 28,\n",
    "    'C': 29,\n",
    "    'D': 30,\n",
    "    'E': 31,\n",
    "    'F': 32,\n",
    "    'G': 33,\n",
    "    'H': 34,\n",
    "    'I': 35,\n",
    "    'J': 36,\n",
    "    'K': 37,\n",
    "    'L': 38,\n",
    "    'M': 39,\n",
    "    'N': 40,\n",
    "    'O': 41,\n",
    "    'P': 42,\n",
    "    'Q': 43,\n",
    "    'R': 44,\n",
    "    'S': 45,\n",
    "    'T': 46,\n",
    "    'U': 47,\n",
    "    'V': 48,\n",
    "    'W': 49,\n",
    "    'X': 50,\n",
    "    'Y': 51,\n",
    "    'Z': 52,\n",
    "}"
   ]
  },
  {
   "cell_type": "code",
   "execution_count": null,
   "metadata": {},
   "outputs": [],
   "source": []
  },
  {
   "cell_type": "code",
   "execution_count": 11,
   "metadata": {},
   "outputs": [
    {
     "data": {
      "text/plain": [
       "7990"
      ]
     },
     "execution_count": 11,
     "metadata": {},
     "output_type": "execute_result"
    }
   ],
   "source": [
    "with open ('input3.txt') as f:\n",
    "    lines = f.read().splitlines()\n",
    "    total = 0\n",
    "    for line in lines:\n",
    "        comp_a = line[:int(len(line)/2)]\n",
    "        comp_b = line[int(len(line)/2):]\n",
    "        found = []\n",
    "        for c in comp_a:\n",
    "            if c in comp_b and c not in found:\n",
    "                total += points[c]\n",
    "                found.append(c)\n",
    "total"
   ]
  },
  {
   "cell_type": "code",
   "execution_count": 17,
   "metadata": {},
   "outputs": [
    {
     "data": {
      "text/plain": [
       "2602"
      ]
     },
     "execution_count": 17,
     "metadata": {},
     "output_type": "execute_result"
    }
   ],
   "source": [
    "# a list with each lower and uper case letter\n",
    "letters = [chr(i) for i in range(97, 123)] + [chr(i) for i in range(65, 91)]\n",
    "\n",
    "with open ('input3.txt') as f:\n",
    "    lines = f.read().splitlines()\n",
    "    total = 0\n",
    "    for i in range(0,len(lines), 3):\n",
    "        line1 = lines[i]\n",
    "        line2 = lines[i+1]\n",
    "        line3 = lines[i+2]\n",
    "        for c in letters:\n",
    "            if c in line1 and c in line2 and c in line3:\n",
    "                total += points[c]\n",
    "                break;\n",
    "total"
   ]
  },
  {
   "cell_type": "code",
   "execution_count": null,
   "metadata": {},
   "outputs": [],
   "source": []
  }
 ],
 "metadata": {
  "kernelspec": {
   "display_name": "Python 3.10.8 ('.venv': venv)",
   "language": "python",
   "name": "python3"
  },
  "language_info": {
   "codemirror_mode": {
    "name": "ipython",
    "version": 3
   },
   "file_extension": ".py",
   "mimetype": "text/x-python",
   "name": "python",
   "nbconvert_exporter": "python",
   "pygments_lexer": "ipython3",
   "version": "3.10.8"
  },
  "orig_nbformat": 4,
  "vscode": {
   "interpreter": {
    "hash": "f0871d38d2e6f5f8c27669a4e9b235c77e21cfc7184e4d5e486817e84bf0fb96"
   }
  }
 },
 "nbformat": 4,
 "nbformat_minor": 2
}
